{
 "cells": [
  {
   "cell_type": "code",
   "execution_count": 6,
   "id": "c0b0fb6d",
   "metadata": {},
   "outputs": [
    {
     "name": "stderr",
     "output_type": "stream",
     "text": [
      "/tmp/ipykernel_562/1478419059.py:41: DeprecationWarning: LANCZOS is deprecated and will be removed in Pillow 10 (2023-07-01). Use Resampling.LANCZOS instead.\n",
      "  img = img.resize(new_size, Image.LANCZOS)  # Resize while maintaining aspect ratio\n"
     ]
    }
   ],
   "source": [
    "from PIL import Image\n",
    "import os\n",
    "\n",
    "def get_new_size(img, target_size):\n",
    "    width, height = img.size\n",
    "    aspect_ratio = width / height\n",
    "\n",
    "    if width > height:\n",
    "        new_width = target_size\n",
    "        new_height = int(target_size / aspect_ratio)\n",
    "    else:\n",
    "        new_width = int(target_size * aspect_ratio)\n",
    "        new_height = target_size\n",
    "\n",
    "    return new_width, new_height\n",
    "\n",
    "def pad_image(img, target_size, padding_color):\n",
    "    width, height = img.size\n",
    "    result = Image.new(img.mode, (target_size, target_size), padding_color)\n",
    "    x = (target_size - width) // 2\n",
    "    y = (target_size - height) // 2\n",
    "    result.paste(img, (x, y))\n",
    "    return result\n",
    "\n",
    "input_directory = './your_destination_folder/resized/necklacesbatch5/home_your_destination_folder_resized_rgb_necklace'\n",
    "output_directory = 'Necklaces_Output_5'\n",
    "\n",
    "if not os.path.exists(output_directory):\n",
    "    os.makedirs(output_directory)\n",
    "\n",
    "padding_color = (255, 255, 255, 255)  # Change this to the desired padding color (R, G, B, A)\n",
    "\n",
    "for filename in os.listdir(input_directory):\n",
    "    input_filepath = os.path.join(input_directory, filename)\n",
    "    output_filepath = os.path.join(output_directory, os.path.splitext(filename)[0] + '.png')\n",
    "\n",
    "    try:\n",
    "        with Image.open(input_filepath) as img:\n",
    "            img = img.convert('RGB')  # Convert to PNG format\n",
    "            new_size = get_new_size(img, 1024)\n",
    "            img = img.resize(new_size, Image.LANCZOS)  # Resize while maintaining aspect ratio\n",
    "            img = pad_image(img, 1024, padding_color)  # Pad the image to make it 1024x1024\n",
    "            img.save(output_filepath, 'PNG')\n",
    "    except Exception as e:\n",
    "        print(f\"Error processing {filename}: {e}\")\n"
   ]
  },
  {
   "cell_type": "code",
   "execution_count": 1,
   "id": "e1b1f1d0",
   "metadata": {},
   "outputs": [],
   "source": [
    "!rm -rf .local/share/Trash\n"
   ]
  },
  {
   "cell_type": "code",
   "execution_count": 7,
   "id": "44d2988a",
   "metadata": {},
   "outputs": [
    {
     "name": "stdout",
     "output_type": "stream",
     "text": [
      " .\r\n",
      " ..\r\n",
      " .ipynb_checkpoints\r\n",
      "'Untitled (1).ipynb'\r\n",
      "'Untitled Folder'\r\n",
      " Untitled.ipynb\r\n",
      " cuda-repo-ubuntu1804-11-6-local_11.6.0-510.39.01-1_amd64.deb\r\n",
      " cuda-repo-ubuntu1804-11-6-local_11.6.0-510.39.01-1_amd64.deb.1\r\n",
      "'stylegan3-test (1).ipynb'\r\n",
      " your_destination_folder\r\n"
     ]
    }
   ],
   "source": [
    "!ls -a\n"
   ]
  },
  {
   "cell_type": "code",
   "execution_count": 1,
   "id": "69a6ef28",
   "metadata": {},
   "outputs": [
    {
     "name": "stdout",
     "output_type": "stream",
     "text": [
      "Filesystem      Size  Used Avail Use% Mounted on\r\n",
      "overlay          78G   61G   18G  78% /\r\n",
      "tmpfs            64M     0   64M   0% /dev\r\n",
      "shm              62G     0   62G   0% /dev/shm\r\n",
      "/dev/nvme0n1p1  1.9T  174G  1.7T  10% /etc/hosts\r\n",
      "/dev/sda2       117G   16G   96G  14% /usr/bin/nvidia-smi\r\n",
      "tmpfs            63G     0   63G   0% /sys/fs/cgroup\r\n",
      "tmpfs            63G   12K   63G   1% /proc/driver/nvidia\r\n",
      "tmpfs            63G  4.0K   63G   1% /etc/nvidia/nvidia-application-profiles-rc.d\r\n",
      "tmpfs            13G  2.9M   13G   1% /run/nvidia-persistenced/socket\r\n",
      "udev             63G     0   63G   0% /dev/nvidia3\r\n",
      "tmpfs            63G     0   63G   0% /proc/asound\r\n",
      "tmpfs            63G     0   63G   0% /proc/acpi\r\n",
      "tmpfs            63G     0   63G   0% /proc/scsi\r\n",
      "tmpfs            63G     0   63G   0% /sys/firmware\r\n"
     ]
    }
   ],
   "source": [
    "!df -h\n"
   ]
  },
  {
   "cell_type": "code",
   "execution_count": 6,
   "id": "d13d7c42",
   "metadata": {},
   "outputs": [],
   "source": [
    "!cd ."
   ]
  },
  {
   "cell_type": "code",
   "execution_count": null,
   "id": "2e12743f",
   "metadata": {},
   "outputs": [],
   "source": []
  }
 ],
 "metadata": {
  "kernelspec": {
   "display_name": "Python 3 (ipykernel)",
   "language": "python",
   "name": "python3"
  },
  "language_info": {
   "codemirror_mode": {
    "name": "ipython",
    "version": 3
   },
   "file_extension": ".py",
   "mimetype": "text/x-python",
   "name": "python",
   "nbconvert_exporter": "python",
   "pygments_lexer": "ipython3",
   "version": "3.10.8"
  }
 },
 "nbformat": 4,
 "nbformat_minor": 5
}
